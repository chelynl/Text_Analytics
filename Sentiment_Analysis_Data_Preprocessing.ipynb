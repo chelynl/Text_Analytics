{
  "nbformat": 4,
  "nbformat_minor": 0,
  "metadata": {
    "colab": {
      "name": "Sentiment Analysis - Data Preprocessing.ipynb",
      "provenance": [],
      "collapsed_sections": [],
      "authorship_tag": "ABX9TyOFd+xIdCgVxKWHh/3MhmpO",
      "include_colab_link": true
    },
    "kernelspec": {
      "name": "python3",
      "display_name": "Python 3"
    }
  },
  "cells": [
    {
      "cell_type": "markdown",
      "metadata": {
        "id": "view-in-github",
        "colab_type": "text"
      },
      "source": [
        "<a href=\"https://colab.research.google.com/github/chelynl/sentiment_analysis/blob/main/Sentiment_Analysis_Data_Preprocessing.ipynb\" target=\"_parent\"><img src=\"https://colab.research.google.com/assets/colab-badge.svg\" alt=\"Open In Colab\"/></a>"
      ]
    },
    {
      "cell_type": "markdown",
      "metadata": {
        "id": "iBITGzJisyy1"
      },
      "source": [
        "Resources:<br>\n",
        "https://github.com/hellotinah/youtube_sentiment_analysis/blob/main/comments_full_analysis.ipynb<br>\n",
        "https://medium.com/analytics-vidhya/whatsapp-chat-analysis-using-python-88123e63c8ae<br>\n",
        "https://regex101.com/"
      ]
    },
    {
      "cell_type": "code",
      "metadata": {
        "id": "Bkfm3PImwjL3"
      },
      "source": [
        "# import packages\n",
        "import re\n",
        "import numpy as np\n",
        "import pandas as pd\n",
        "import seaborn as sn\n",
        "import matplotlib.pyplot as plt\n",
        "from datetime import datetime\n",
        "\n",
        "# !pip install emoji\n",
        "# !pip install vaderSentiment\n",
        "import emoji\n",
        "from emoji import UNICODE_EMOJI\n",
        "from vaderSentiment.vaderSentiment import SentimentIntensityAnalyzer\n",
        "# !pip install TextBlob\n",
        "from textblob import TextBlob\n",
        "from textblob import Word"
      ],
      "execution_count": 173,
      "outputs": []
    },
    {
      "cell_type": "code",
      "metadata": {
        "colab": {
          "base_uri": "https://localhost:8080/"
        },
        "id": "JHZTmr71stVB",
        "outputId": "9f8794e8-bb02-4586-dda5-f2182f97fd26"
      },
      "source": [
        "# Authenticate drive\n",
        "from google.colab import drive\n",
        "drive.mount('/content/drive')"
      ],
      "execution_count": 2,
      "outputs": [
        {
          "output_type": "stream",
          "text": [
            "Mounted at /content/drive\n"
          ],
          "name": "stdout"
        }
      ]
    },
    {
      "cell_type": "markdown",
      "metadata": {
        "id": "8v9bODvhiOZY"
      },
      "source": [
        "We will start by uploading the text messages that have already been converted from a txt file to an excel file. However, it is still VERY messy with incorrect headers and formats. We will need to clean up the data as a dataframe in order to do analysis."
      ]
    },
    {
      "cell_type": "code",
      "metadata": {
        "id": "CICOyJ4idYt6",
        "colab": {
          "base_uri": "https://localhost:8080/",
          "height": 204
        },
        "outputId": "dec3ec78-14b3-4767-8ab5-481c79040fbf"
      },
      "source": [
        "# Import original data\r\n",
        "raw_data = pd.read_excel('/content/drive/MyDrive/Colab Notebooks/Between Messages/between_msgs.xlsx')\r\n",
        "\r\n",
        "# See preview\r\n",
        "raw_data.head()"
      ],
      "execution_count": 174,
      "outputs": [
        {
          "output_type": "execute_result",
          "data": {
            "text/html": [
              "<div>\n",
              "<style scoped>\n",
              "    .dataframe tbody tr th:only-of-type {\n",
              "        vertical-align: middle;\n",
              "    }\n",
              "\n",
              "    .dataframe tbody tr th {\n",
              "        vertical-align: top;\n",
              "    }\n",
              "\n",
              "    .dataframe thead th {\n",
              "        text-align: right;\n",
              "    }\n",
              "</style>\n",
              "<table border=\"1\" class=\"dataframe\">\n",
              "  <thead>\n",
              "    <tr style=\"text-align: right;\">\n",
              "      <th></th>\n",
              "      <th>DATA</th>\n",
              "      <th>Unnamed: 1</th>\n",
              "      <th>Unnamed: 2</th>\n",
              "      <th>Unnamed: 3</th>\n",
              "      <th>Unnamed: 4</th>\n",
              "      <th>Unnamed: 5</th>\n",
              "      <th>Unnamed: 6</th>\n",
              "      <th>Unnamed: 7</th>\n",
              "      <th>Unnamed: 8</th>\n",
              "    </tr>\n",
              "  </thead>\n",
              "  <tbody>\n",
              "    <tr>\n",
              "      <th>0</th>\n",
              "      <td>Saturday, April 8, 2017</td>\n",
              "      <td>NaN</td>\n",
              "      <td>NaN</td>\n",
              "      <td>NaN</td>\n",
              "      <td>NaN</td>\n",
              "      <td>NaN</td>\n",
              "      <td>NaN</td>\n",
              "      <td>NaN</td>\n",
              "      <td>NaN</td>\n",
              "    </tr>\n",
              "    <tr>\n",
              "      <th>1</th>\n",
              "      <td>PM 02:33, 💍 Wifey Bear ❤️ : Hiiii boooo</td>\n",
              "      <td>NaN</td>\n",
              "      <td>NaN</td>\n",
              "      <td>NaN</td>\n",
              "      <td>NaN</td>\n",
              "      <td>NaN</td>\n",
              "      <td>NaN</td>\n",
              "      <td>NaN</td>\n",
              "      <td>NaN</td>\n",
              "    </tr>\n",
              "    <tr>\n",
              "      <th>2</th>\n",
              "      <td>PM 02:33, 💍 Hubby Bear 🐻 : First</td>\n",
              "      <td>NaN</td>\n",
              "      <td>NaN</td>\n",
              "      <td>NaN</td>\n",
              "      <td>NaN</td>\n",
              "      <td>NaN</td>\n",
              "      <td>NaN</td>\n",
              "      <td>NaN</td>\n",
              "      <td>NaN</td>\n",
              "    </tr>\n",
              "    <tr>\n",
              "      <th>3</th>\n",
              "      <td>PM 02:39, 💍 Hubby Bear 🐻 : (milk_face)</td>\n",
              "      <td>NaN</td>\n",
              "      <td>NaN</td>\n",
              "      <td>NaN</td>\n",
              "      <td>NaN</td>\n",
              "      <td>NaN</td>\n",
              "      <td>NaN</td>\n",
              "      <td>NaN</td>\n",
              "      <td>NaN</td>\n",
              "    </tr>\n",
              "    <tr>\n",
              "      <th>4</th>\n",
              "      <td>PM 02:40, 💍 Hubby Bear 🐻 : STICKER</td>\n",
              "      <td>NaN</td>\n",
              "      <td>NaN</td>\n",
              "      <td>NaN</td>\n",
              "      <td>NaN</td>\n",
              "      <td>NaN</td>\n",
              "      <td>NaN</td>\n",
              "      <td>NaN</td>\n",
              "      <td>NaN</td>\n",
              "    </tr>\n",
              "  </tbody>\n",
              "</table>\n",
              "</div>"
            ],
            "text/plain": [
              "                                      DATA Unnamed: 1  ... Unnamed: 7 Unnamed: 8\n",
              "0                  Saturday, April 8, 2017        NaN  ...        NaN        NaN\n",
              "1  PM 02:33, 💍 Wifey Bear ❤️ : Hiiii boooo        NaN  ...        NaN        NaN\n",
              "2        PM 02:33, 💍 Hubby Bear 🐻 : First         NaN  ...        NaN        NaN\n",
              "3   PM 02:39, 💍 Hubby Bear 🐻 : (milk_face)        NaN  ...        NaN        NaN\n",
              "4       PM 02:40, 💍 Hubby Bear 🐻 : STICKER        NaN  ...        NaN        NaN\n",
              "\n",
              "[5 rows x 9 columns]"
            ]
          },
          "metadata": {
            "tags": []
          },
          "execution_count": 174
        }
      ]
    },
    {
      "cell_type": "markdown",
      "metadata": {
        "id": "KOxMLvtOjGnG"
      },
      "source": [
        "All the useful content are under the `DATA` column and the rest are columns with NaN. These columns will be dropped."
      ]
    },
    {
      "cell_type": "code",
      "metadata": {
        "id": "ekmHRr0QeG_y"
      },
      "source": [
        "# Remove unwanted cols\n",
        "data1 = raw_data['DATA']"
      ],
      "execution_count": 179,
      "outputs": []
    },
    {
      "cell_type": "code",
      "metadata": {
        "id": "DxipoIMCxls9",
        "colab": {
          "base_uri": "https://localhost:8080/"
        },
        "outputId": "0736b2e6-cbd5-48fd-803d-bf1ea371b915"
      },
      "source": [
        "# Check number of na values\n",
        "print('Nulls: ', sum(data1.isna()))\n",
        "\n",
        "# Drop na values\n",
        "data2 = data1.dropna()\n",
        "\n",
        "# See preview\n",
        "data2.head()"
      ],
      "execution_count": 184,
      "outputs": [
        {
          "output_type": "stream",
          "text": [
            "Nulls:  3153\n"
          ],
          "name": "stdout"
        },
        {
          "output_type": "execute_result",
          "data": {
            "text/plain": [
              "0                    Saturday, April 8, 2017\n",
              "1    PM 02:33, 💍 Wifey Bear ❤️ : Hiiii boooo\n",
              "2          PM 02:33, 💍 Hubby Bear 🐻 : First \n",
              "3     PM 02:39, 💍 Hubby Bear 🐻 : (milk_face)\n",
              "4         PM 02:40, 💍 Hubby Bear 🐻 : STICKER\n",
              "Name: DATA, dtype: object"
            ]
          },
          "metadata": {
            "tags": []
          },
          "execution_count": 184
        }
      ]
    },
    {
      "cell_type": "markdown",
      "metadata": {
        "id": "RPkzFOIbkYXk"
      },
      "source": [
        "The data is large enough to drop null values without affecting the analysis. Now, we will remove ALL emojis showing up next to the sender's name and message body."
      ]
    },
    {
      "cell_type": "code",
      "metadata": {
        "id": "CfWhhv3En6Tz"
      },
      "source": [
        "# Function for removing emoticons\n",
        "def remove_emojis(text):\n",
        "    regex_pattern = re.compile(pattern = \"[\"\n",
        "        u\"\\U0001F600-\\U0001F64F\"  # emoticons\n",
        "        u\"\\U0001F300-\\U0001F5FF\"  # symbols & pictographs\n",
        "        u\"\\U0001F680-\\U0001F6FF\"  # transport & map symbols\n",
        "        u\"\\U0001F1E0-\\U0001F1FF\"  # flags (iOS)\n",
        "        u\"\\U0001F1F2-\\U0001F1F4\"  # Macau flag\n",
        "        u\"\\U0001F1E6-\\U0001F1FF\"  # flags\n",
        "        u\"\\U0001F600-\\U0001F64F\"\n",
        "        u\"\\U00002702-\\U000027B0\"\n",
        "        u\"\\U000024C2-\\U0001F251\"\n",
        "        u\"\\U0001f926-\\U0001f937\"\n",
        "        u\"\\U0001F1F2\"\n",
        "        u\"\\U0001F1F4\"\n",
        "        u\"\\U0001F620\"\n",
        "        u\"\\u200d\"\n",
        "        u\"\\u2640-\\u2642\"\n",
        "        \"]+\", flags=re.UNICODE)\n",
        "\n",
        "    return regex_pattern.sub(r'',text)"
      ],
      "execution_count": 185,
      "outputs": []
    },
    {
      "cell_type": "code",
      "metadata": {
        "id": "Jwoih-H3gIdx",
        "colab": {
          "base_uri": "https://localhost:8080/",
          "height": 204
        },
        "outputId": "f66c029a-1c33-42af-fad3-757dfdecd13b"
      },
      "source": [
        "# List to hold clean text without emojis\n",
        "no_emojis_text = []\n",
        "\n",
        "# Iterate each row and remove emojis and append to clean list\n",
        "for row in data2:\n",
        "  if isinstance(row, str)==True:\n",
        "    clean_row = remove_emojis(row)\n",
        "    no_emojis_text.append(clean_row)\n",
        "  else:\n",
        "    no_emojis_text.append(row)\n",
        "\n",
        "# Add clean values as new col in a df\n",
        "data3 = pd.DataFrame(no_emojis_text, columns=['data'])\n",
        "\n",
        "# Preview df\n",
        "data3.head()"
      ],
      "execution_count": 211,
      "outputs": [
        {
          "output_type": "execute_result",
          "data": {
            "text/html": [
              "<div>\n",
              "<style scoped>\n",
              "    .dataframe tbody tr th:only-of-type {\n",
              "        vertical-align: middle;\n",
              "    }\n",
              "\n",
              "    .dataframe tbody tr th {\n",
              "        vertical-align: top;\n",
              "    }\n",
              "\n",
              "    .dataframe thead th {\n",
              "        text-align: right;\n",
              "    }\n",
              "</style>\n",
              "<table border=\"1\" class=\"dataframe\">\n",
              "  <thead>\n",
              "    <tr style=\"text-align: right;\">\n",
              "      <th></th>\n",
              "      <th>data</th>\n",
              "    </tr>\n",
              "  </thead>\n",
              "  <tbody>\n",
              "    <tr>\n",
              "      <th>0</th>\n",
              "      <td>Saturday, April 8, 2017</td>\n",
              "    </tr>\n",
              "    <tr>\n",
              "      <th>1</th>\n",
              "      <td>PM 02:33,  Wifey Bear  : Hiiii boooo</td>\n",
              "    </tr>\n",
              "    <tr>\n",
              "      <th>2</th>\n",
              "      <td>PM 02:33,  Hubby Bear  : First</td>\n",
              "    </tr>\n",
              "    <tr>\n",
              "      <th>3</th>\n",
              "      <td>PM 02:39,  Hubby Bear  : (milk_face)</td>\n",
              "    </tr>\n",
              "    <tr>\n",
              "      <th>4</th>\n",
              "      <td>PM 02:40,  Hubby Bear  : STICKER</td>\n",
              "    </tr>\n",
              "  </tbody>\n",
              "</table>\n",
              "</div>"
            ],
            "text/plain": [
              "                                   data\n",
              "0               Saturday, April 8, 2017\n",
              "1  PM 02:33,  Wifey Bear  : Hiiii boooo\n",
              "2       PM 02:33,  Hubby Bear  : First \n",
              "3  PM 02:39,  Hubby Bear  : (milk_face)\n",
              "4      PM 02:40,  Hubby Bear  : STICKER"
            ]
          },
          "metadata": {
            "tags": []
          },
          "execution_count": 211
        }
      ]
    },
    {
      "cell_type": "code",
      "metadata": {
        "colab": {
          "base_uri": "https://localhost:8080/"
        },
        "id": "gIJ4U8G1wWt7",
        "outputId": "9fd578db-b231-4c5a-8cf6-d382934d3d04"
      },
      "source": [
        "# See starting data dimension\r\n",
        "data3.shape"
      ],
      "execution_count": 256,
      "outputs": [
        {
          "output_type": "execute_result",
          "data": {
            "text/plain": [
              "(155289, 2)"
            ]
          },
          "metadata": {
            "tags": []
          },
          "execution_count": 256
        }
      ]
    },
    {
      "cell_type": "markdown",
      "metadata": {
        "id": "jfo18oj7liT9"
      },
      "source": [
        "Multiple information are under a single column, `data`. We need to split the `data` column into 4 separate columns including:\r\n",
        "- Date Message Sent\r\n",
        "- Time Message Sent\r\n",
        "- Sender Name\r\n",
        "- Message Body\r\n",
        "\r\n",
        "***\r\n",
        "\r\n",
        "We will use regular expressions to parse and organize the data."
      ]
    },
    {
      "cell_type": "code",
      "metadata": {
        "colab": {
          "base_uri": "https://localhost:8080/"
        },
        "id": "TWZKguT9ovjI",
        "outputId": "394f9765-770c-429b-9970-895ee258657f"
      },
      "source": [
        "\"\"\" Pattern that distinguishes date message sent:\r\n",
        "    Saturday, April 8, 2017\r\n",
        "\"\"\"\r\n",
        "\r\n",
        "date_pattern = re.compile('\\w+,\\s\\w+\\s\\d*,\\s\\d+')\r\n",
        "\r\n",
        "# Store individual dates as new list\r\n",
        "dates_list = []\r\n",
        "\r\n",
        "# iterate over each date to check for date pattern\r\n",
        "for row in data3['data']:\r\n",
        "  if isinstance(row, str)==True:\r\n",
        "    # Create date var and append to list if pattern exists\r\n",
        "    if re.match(date_pattern, row):\r\n",
        "      date = re.findall(date_pattern, row)[0]\r\n",
        "      dates_list.append(date)\r\n",
        "    # if the date pattern doesn't exist, the message is part of the previous date\r\n",
        "    else:\r\n",
        "      dates_list.append(date)\r\n",
        "  else:\r\n",
        "    dates_list.append(date)\r\n",
        "\r\n",
        "\r\n",
        "# Preview dates list\r\n",
        "dates_list[:5]"
      ],
      "execution_count": 237,
      "outputs": [
        {
          "output_type": "execute_result",
          "data": {
            "text/plain": [
              "['Saturday, April 8, 2017',\n",
              " 'Saturday, April 8, 2017',\n",
              " 'Saturday, April 8, 2017',\n",
              " 'Saturday, April 8, 2017',\n",
              " 'Saturday, April 8, 2017']"
            ]
          },
          "metadata": {
            "tags": []
          },
          "execution_count": 237
        }
      ]
    },
    {
      "cell_type": "code",
      "metadata": {
        "colab": {
          "base_uri": "https://localhost:8080/",
          "height": 419
        },
        "id": "r2ukWctRmaGk",
        "outputId": "da0f1879-ea8b-4ff8-9302-482a6e9950bb"
      },
      "source": [
        "# Add dates list as a separate column\r\n",
        "data3['Date Message Sent'] = pd.Series(dates_list)\r\n",
        "\r\n",
        "# Preview data\r\n",
        "data3"
      ],
      "execution_count": 229,
      "outputs": [
        {
          "output_type": "execute_result",
          "data": {
            "text/html": [
              "<div>\n",
              "<style scoped>\n",
              "    .dataframe tbody tr th:only-of-type {\n",
              "        vertical-align: middle;\n",
              "    }\n",
              "\n",
              "    .dataframe tbody tr th {\n",
              "        vertical-align: top;\n",
              "    }\n",
              "\n",
              "    .dataframe thead th {\n",
              "        text-align: right;\n",
              "    }\n",
              "</style>\n",
              "<table border=\"1\" class=\"dataframe\">\n",
              "  <thead>\n",
              "    <tr style=\"text-align: right;\">\n",
              "      <th></th>\n",
              "      <th>data</th>\n",
              "      <th>Date Message Sent</th>\n",
              "    </tr>\n",
              "  </thead>\n",
              "  <tbody>\n",
              "    <tr>\n",
              "      <th>0</th>\n",
              "      <td>Saturday, April 8, 2017</td>\n",
              "      <td>Saturday, April 8, 2017</td>\n",
              "    </tr>\n",
              "    <tr>\n",
              "      <th>1</th>\n",
              "      <td>PM 02:33,  Wifey Bear  : Hiiii boooo</td>\n",
              "      <td>Saturday, April 8, 2017</td>\n",
              "    </tr>\n",
              "    <tr>\n",
              "      <th>2</th>\n",
              "      <td>PM 02:33,  Hubby Bear  : First</td>\n",
              "      <td>Saturday, April 8, 2017</td>\n",
              "    </tr>\n",
              "    <tr>\n",
              "      <th>3</th>\n",
              "      <td>PM 02:39,  Hubby Bear  : (milk_face)</td>\n",
              "      <td>Saturday, April 8, 2017</td>\n",
              "    </tr>\n",
              "    <tr>\n",
              "      <th>4</th>\n",
              "      <td>PM 02:40,  Hubby Bear  : STICKER</td>\n",
              "      <td>Saturday, April 8, 2017</td>\n",
              "    </tr>\n",
              "    <tr>\n",
              "      <th>...</th>\n",
              "      <td>...</td>\n",
              "      <td>...</td>\n",
              "    </tr>\n",
              "    <tr>\n",
              "      <th>155284</th>\n",
              "      <td>PM 10:10,  Wifey Bear  : https://www.youtube.c...</td>\n",
              "      <td>Wednesday, December 30, 2020</td>\n",
              "    </tr>\n",
              "    <tr>\n",
              "      <th>155285</th>\n",
              "      <td>Thursday, December 31, 2020</td>\n",
              "      <td>Thursday, December 31, 2020</td>\n",
              "    </tr>\n",
              "    <tr>\n",
              "      <th>155286</th>\n",
              "      <td>AM 11:02,  Wifey Bear  : Good morning bear!</td>\n",
              "      <td>Thursday, December 31, 2020</td>\n",
              "    </tr>\n",
              "    <tr>\n",
              "      <th>155287</th>\n",
              "      <td>AM 11:02,  Wifey Bear  : Hope you have a fun t...</td>\n",
              "      <td>Thursday, December 31, 2020</td>\n",
              "    </tr>\n",
              "    <tr>\n",
              "      <th>155288</th>\n",
              "      <td>AM 11:02,  Wifey Bear  : Hehehe and see you to...</td>\n",
              "      <td>Thursday, December 31, 2020</td>\n",
              "    </tr>\n",
              "  </tbody>\n",
              "</table>\n",
              "<p>155289 rows × 2 columns</p>\n",
              "</div>"
            ],
            "text/plain": [
              "                                                     data             Date Message Sent\n",
              "0                                 Saturday, April 8, 2017       Saturday, April 8, 2017\n",
              "1                    PM 02:33,  Wifey Bear  : Hiiii boooo       Saturday, April 8, 2017\n",
              "2                         PM 02:33,  Hubby Bear  : First        Saturday, April 8, 2017\n",
              "3                    PM 02:39,  Hubby Bear  : (milk_face)       Saturday, April 8, 2017\n",
              "4                        PM 02:40,  Hubby Bear  : STICKER       Saturday, April 8, 2017\n",
              "...                                                   ...                           ...\n",
              "155284  PM 10:10,  Wifey Bear  : https://www.youtube.c...  Wednesday, December 30, 2020\n",
              "155285                        Thursday, December 31, 2020   Thursday, December 31, 2020\n",
              "155286        AM 11:02,  Wifey Bear  : Good morning bear!   Thursday, December 31, 2020\n",
              "155287  AM 11:02,  Wifey Bear  : Hope you have a fun t...   Thursday, December 31, 2020\n",
              "155288  AM 11:02,  Wifey Bear  : Hehehe and see you to...   Thursday, December 31, 2020\n",
              "\n",
              "[155289 rows x 2 columns]"
            ]
          },
          "metadata": {
            "tags": []
          },
          "execution_count": 229
        }
      ]
    },
    {
      "cell_type": "markdown",
      "metadata": {
        "id": "9H_uFuLpqjbb"
      },
      "source": [
        "Now that we have `Date Message Sent` as a separate column, we can rid of the rows that contain duplicate information (thus, removing date info from the original `data` column)."
      ]
    },
    {
      "cell_type": "code",
      "metadata": {
        "colab": {
          "base_uri": "https://localhost:8080/",
          "height": 419
        },
        "id": "yaz53HHTm3PJ",
        "outputId": "1db0acf9-9a29-4330-d65d-2bf957069102"
      },
      "source": [
        "# Drop dup dates\r\n",
        "data4 = data3[data3['data']!=data3['Date Message Sent']]\r\n",
        "\r\n",
        "# Reset index and drop old index\r\n",
        "data5 = data4.reset_index().drop(columns=['index'])\r\n",
        "\r\n",
        "# Preview data\r\n",
        "data5"
      ],
      "execution_count": 235,
      "outputs": [
        {
          "output_type": "execute_result",
          "data": {
            "text/html": [
              "<div>\n",
              "<style scoped>\n",
              "    .dataframe tbody tr th:only-of-type {\n",
              "        vertical-align: middle;\n",
              "    }\n",
              "\n",
              "    .dataframe tbody tr th {\n",
              "        vertical-align: top;\n",
              "    }\n",
              "\n",
              "    .dataframe thead th {\n",
              "        text-align: right;\n",
              "    }\n",
              "</style>\n",
              "<table border=\"1\" class=\"dataframe\">\n",
              "  <thead>\n",
              "    <tr style=\"text-align: right;\">\n",
              "      <th></th>\n",
              "      <th>data</th>\n",
              "      <th>Date Message Sent</th>\n",
              "    </tr>\n",
              "  </thead>\n",
              "  <tbody>\n",
              "    <tr>\n",
              "      <th>0</th>\n",
              "      <td>PM 02:33,  Wifey Bear  : Hiiii boooo</td>\n",
              "      <td>Saturday, April 8, 2017</td>\n",
              "    </tr>\n",
              "    <tr>\n",
              "      <th>1</th>\n",
              "      <td>PM 02:33,  Hubby Bear  : First</td>\n",
              "      <td>Saturday, April 8, 2017</td>\n",
              "    </tr>\n",
              "    <tr>\n",
              "      <th>2</th>\n",
              "      <td>PM 02:39,  Hubby Bear  : (milk_face)</td>\n",
              "      <td>Saturday, April 8, 2017</td>\n",
              "    </tr>\n",
              "    <tr>\n",
              "      <th>3</th>\n",
              "      <td>PM 02:40,  Hubby Bear  : STICKER</td>\n",
              "      <td>Saturday, April 8, 2017</td>\n",
              "    </tr>\n",
              "    <tr>\n",
              "      <th>4</th>\n",
              "      <td>PM 02:40,  Hubby Bear  : LOOOOOOL</td>\n",
              "      <td>Saturday, April 8, 2017</td>\n",
              "    </tr>\n",
              "    <tr>\n",
              "      <th>...</th>\n",
              "      <td>...</td>\n",
              "      <td>...</td>\n",
              "    </tr>\n",
              "    <tr>\n",
              "      <th>154188</th>\n",
              "      <td>PM 09:54,  Wifey Bear  : https://youtu.be/FOQg...</td>\n",
              "      <td>Wednesday, December 30, 2020</td>\n",
              "    </tr>\n",
              "    <tr>\n",
              "      <th>154189</th>\n",
              "      <td>PM 10:10,  Wifey Bear  : https://www.youtube.c...</td>\n",
              "      <td>Wednesday, December 30, 2020</td>\n",
              "    </tr>\n",
              "    <tr>\n",
              "      <th>154190</th>\n",
              "      <td>AM 11:02,  Wifey Bear  : Good morning bear!</td>\n",
              "      <td>Thursday, December 31, 2020</td>\n",
              "    </tr>\n",
              "    <tr>\n",
              "      <th>154191</th>\n",
              "      <td>AM 11:02,  Wifey Bear  : Hope you have a fun t...</td>\n",
              "      <td>Thursday, December 31, 2020</td>\n",
              "    </tr>\n",
              "    <tr>\n",
              "      <th>154192</th>\n",
              "      <td>AM 11:02,  Wifey Bear  : Hehehe and see you to...</td>\n",
              "      <td>Thursday, December 31, 2020</td>\n",
              "    </tr>\n",
              "  </tbody>\n",
              "</table>\n",
              "<p>154193 rows × 2 columns</p>\n",
              "</div>"
            ],
            "text/plain": [
              "                                                     data             Date Message Sent\n",
              "0                    PM 02:33,  Wifey Bear  : Hiiii boooo       Saturday, April 8, 2017\n",
              "1                         PM 02:33,  Hubby Bear  : First        Saturday, April 8, 2017\n",
              "2                    PM 02:39,  Hubby Bear  : (milk_face)       Saturday, April 8, 2017\n",
              "3                        PM 02:40,  Hubby Bear  : STICKER       Saturday, April 8, 2017\n",
              "4                       PM 02:40,  Hubby Bear  : LOOOOOOL       Saturday, April 8, 2017\n",
              "...                                                   ...                           ...\n",
              "154188  PM 09:54,  Wifey Bear  : https://youtu.be/FOQg...  Wednesday, December 30, 2020\n",
              "154189  PM 10:10,  Wifey Bear  : https://www.youtube.c...  Wednesday, December 30, 2020\n",
              "154190        AM 11:02,  Wifey Bear  : Good morning bear!   Thursday, December 31, 2020\n",
              "154191  AM 11:02,  Wifey Bear  : Hope you have a fun t...   Thursday, December 31, 2020\n",
              "154192  AM 11:02,  Wifey Bear  : Hehehe and see you to...   Thursday, December 31, 2020\n",
              "\n",
              "[154193 rows x 2 columns]"
            ]
          },
          "metadata": {
            "tags": []
          },
          "execution_count": 235
        }
      ]
    },
    {
      "cell_type": "markdown",
      "metadata": {
        "id": "3xkNkmXZrYak"
      },
      "source": [
        "We will repeat the same process to extract the time the message was sent and give it its own column."
      ]
    },
    {
      "cell_type": "code",
      "metadata": {
        "id": "juiIHjrJuiW7",
        "colab": {
          "base_uri": "https://localhost:8080/"
        },
        "outputId": "9ccaa58e-7ef7-4d59-ba01-b74226e75cdc"
      },
      "source": [
        "time_pattern = '\\w+\\s\\d+:\\d+'\r\n",
        "\r\n",
        "# Store individual times as new list\r\n",
        "times_list = []\r\n",
        "\r\n",
        "for row in data5['data']:\r\n",
        "  if isinstance(row, str)==True:\r\n",
        "    # Create time var and append to list if pattern exists\r\n",
        "    if re.match(time_pattern, row):\r\n",
        "      time = re.findall(time_pattern, row)[0]\r\n",
        "      times_list.append(time)\r\n",
        "\r\n",
        "# Preview times list\r\n",
        "times_list[:5]"
      ],
      "execution_count": 242,
      "outputs": [
        {
          "output_type": "execute_result",
          "data": {
            "text/plain": [
              "['PM 02:33', 'PM 02:33', 'PM 02:39', 'PM 02:40', 'PM 02:40']"
            ]
          },
          "metadata": {
            "tags": []
          },
          "execution_count": 242
        }
      ]
    },
    {
      "cell_type": "code",
      "metadata": {
        "colab": {
          "base_uri": "https://localhost:8080/",
          "height": 419
        },
        "id": "S1Xbjbiqsgr_",
        "outputId": "49c34a62-2ee1-4640-cc73-594c04a1aa7f"
      },
      "source": [
        "# Add time as new col\r\n",
        "data5['Time Message Sent'] = pd.Series(times_list)\r\n",
        "\r\n",
        "# Drop nulls (there were some rows that did not begin with the time; this could be due to the row continuing a previous msg)\r\n",
        "data6 = data5.dropna()\r\n",
        "\r\n",
        "# Preview data\r\n",
        "data6"
      ],
      "execution_count": 244,
      "outputs": [
        {
          "output_type": "execute_result",
          "data": {
            "text/html": [
              "<div>\n",
              "<style scoped>\n",
              "    .dataframe tbody tr th:only-of-type {\n",
              "        vertical-align: middle;\n",
              "    }\n",
              "\n",
              "    .dataframe tbody tr th {\n",
              "        vertical-align: top;\n",
              "    }\n",
              "\n",
              "    .dataframe thead th {\n",
              "        text-align: right;\n",
              "    }\n",
              "</style>\n",
              "<table border=\"1\" class=\"dataframe\">\n",
              "  <thead>\n",
              "    <tr style=\"text-align: right;\">\n",
              "      <th></th>\n",
              "      <th>data</th>\n",
              "      <th>Date Message Sent</th>\n",
              "      <th>Time Message Sent</th>\n",
              "    </tr>\n",
              "  </thead>\n",
              "  <tbody>\n",
              "    <tr>\n",
              "      <th>0</th>\n",
              "      <td>PM 02:33,  Wifey Bear  : Hiiii boooo</td>\n",
              "      <td>Saturday, April 8, 2017</td>\n",
              "      <td>PM 02:33</td>\n",
              "    </tr>\n",
              "    <tr>\n",
              "      <th>1</th>\n",
              "      <td>PM 02:33,  Hubby Bear  : First</td>\n",
              "      <td>Saturday, April 8, 2017</td>\n",
              "      <td>PM 02:33</td>\n",
              "    </tr>\n",
              "    <tr>\n",
              "      <th>2</th>\n",
              "      <td>PM 02:39,  Hubby Bear  : (milk_face)</td>\n",
              "      <td>Saturday, April 8, 2017</td>\n",
              "      <td>PM 02:39</td>\n",
              "    </tr>\n",
              "    <tr>\n",
              "      <th>3</th>\n",
              "      <td>PM 02:40,  Hubby Bear  : STICKER</td>\n",
              "      <td>Saturday, April 8, 2017</td>\n",
              "      <td>PM 02:40</td>\n",
              "    </tr>\n",
              "    <tr>\n",
              "      <th>4</th>\n",
              "      <td>PM 02:40,  Hubby Bear  : LOOOOOOL</td>\n",
              "      <td>Saturday, April 8, 2017</td>\n",
              "      <td>PM 02:40</td>\n",
              "    </tr>\n",
              "    <tr>\n",
              "      <th>...</th>\n",
              "      <td>...</td>\n",
              "      <td>...</td>\n",
              "      <td>...</td>\n",
              "    </tr>\n",
              "    <tr>\n",
              "      <th>151437</th>\n",
              "      <td>PM 03:04,  Wifey Bear  : Hiii bearrr</td>\n",
              "      <td>Thursday, September 10, 2020</td>\n",
              "      <td>PM 09:54</td>\n",
              "    </tr>\n",
              "    <tr>\n",
              "      <th>151438</th>\n",
              "      <td>PM 03:04,  Hubby Bear  : you cant hide from me...</td>\n",
              "      <td>Thursday, September 10, 2020</td>\n",
              "      <td>PM 10:10</td>\n",
              "    </tr>\n",
              "    <tr>\n",
              "      <th>151439</th>\n",
              "      <td>PM 03:04,  Wifey Bear  : :3</td>\n",
              "      <td>Thursday, September 10, 2020</td>\n",
              "      <td>AM 11:02</td>\n",
              "    </tr>\n",
              "    <tr>\n",
              "      <th>151440</th>\n",
              "      <td>PM 03:04,  Hubby Bear  : cute bear &lt;3</td>\n",
              "      <td>Thursday, September 10, 2020</td>\n",
              "      <td>AM 11:02</td>\n",
              "    </tr>\n",
              "    <tr>\n",
              "      <th>151441</th>\n",
              "      <td>PM 03:05,  Wifey Bear  : Can you hear me???</td>\n",
              "      <td>Thursday, September 10, 2020</td>\n",
              "      <td>AM 11:02</td>\n",
              "    </tr>\n",
              "  </tbody>\n",
              "</table>\n",
              "<p>151442 rows × 3 columns</p>\n",
              "</div>"
            ],
            "text/plain": [
              "                                                     data  ... Time Message Sent\n",
              "0                    PM 02:33,  Wifey Bear  : Hiiii boooo  ...          PM 02:33\n",
              "1                         PM 02:33,  Hubby Bear  : First   ...          PM 02:33\n",
              "2                    PM 02:39,  Hubby Bear  : (milk_face)  ...          PM 02:39\n",
              "3                        PM 02:40,  Hubby Bear  : STICKER  ...          PM 02:40\n",
              "4                       PM 02:40,  Hubby Bear  : LOOOOOOL  ...          PM 02:40\n",
              "...                                                   ...  ...               ...\n",
              "151437               PM 03:04,  Wifey Bear  : Hiii bearrr  ...          PM 09:54\n",
              "151438  PM 03:04,  Hubby Bear  : you cant hide from me...  ...          PM 10:10\n",
              "151439                        PM 03:04,  Wifey Bear  : :3  ...          AM 11:02\n",
              "151440              PM 03:04,  Hubby Bear  : cute bear <3  ...          AM 11:02\n",
              "151441        PM 03:05,  Wifey Bear  : Can you hear me???  ...          AM 11:02\n",
              "\n",
              "[151442 rows x 3 columns]"
            ]
          },
          "metadata": {
            "tags": []
          },
          "execution_count": 244
        }
      ]
    },
    {
      "cell_type": "markdown",
      "metadata": {
        "id": "9f7MSKeYtTG9"
      },
      "source": [
        "Extract the sender's name and give it its own column."
      ]
    },
    {
      "cell_type": "code",
      "metadata": {
        "colab": {
          "base_uri": "https://localhost:8080/"
        },
        "id": "yBvvL-s5tZaO",
        "outputId": "1ec99982-204b-4273-8e4c-a102fc92d6d8"
      },
      "source": [
        "# Possible names of senders\r\n",
        "senders = ['Hubby Bear', 'Wifey Bear']\r\n",
        "\r\n",
        "# List to store sender names per message\r\n",
        "sender_list = []\r\n",
        "\r\n",
        "# iterate over each row in data\r\n",
        "for row in data6['data']:\r\n",
        "  # iterate over each possible sender\r\n",
        "  for sender in senders:\r\n",
        "    if isinstance(row, str)==True:\r\n",
        "      # append to list if sender exists\r\n",
        "      if sender in row:\r\n",
        "        s = sender\r\n",
        "        sender_list.append(s)\r\n",
        "\r\n",
        "# Preview sender list\r\n",
        "sender_list[:5]"
      ],
      "execution_count": 247,
      "outputs": [
        {
          "output_type": "execute_result",
          "data": {
            "text/plain": [
              "['Wifey Bear', 'Hubby Bear', 'Hubby Bear', 'Hubby Bear', 'Hubby Bear']"
            ]
          },
          "metadata": {
            "tags": []
          },
          "execution_count": 247
        }
      ]
    },
    {
      "cell_type": "code",
      "metadata": {
        "colab": {
          "base_uri": "https://localhost:8080/",
          "height": 521
        },
        "id": "CdraH3Jjtm3F",
        "outputId": "3c52c0cf-04c8-4ecc-d811-1f256bbad094"
      },
      "source": [
        "# Add sender col\r\n",
        "data6['Sender'] = pd.Series(sender_list)\r\n",
        "\r\n",
        "# Drop null values\r\n",
        "data7 = data6.dropna()\r\n",
        "\r\n",
        "# Preview data\r\n",
        "data7"
      ],
      "execution_count": 249,
      "outputs": [
        {
          "output_type": "stream",
          "text": [
            "/usr/local/lib/python3.6/dist-packages/ipykernel_launcher.py:2: SettingWithCopyWarning: \n",
            "A value is trying to be set on a copy of a slice from a DataFrame.\n",
            "Try using .loc[row_indexer,col_indexer] = value instead\n",
            "\n",
            "See the caveats in the documentation: https://pandas.pydata.org/pandas-docs/stable/user_guide/indexing.html#returning-a-view-versus-a-copy\n",
            "  \n"
          ],
          "name": "stderr"
        },
        {
          "output_type": "execute_result",
          "data": {
            "text/html": [
              "<div>\n",
              "<style scoped>\n",
              "    .dataframe tbody tr th:only-of-type {\n",
              "        vertical-align: middle;\n",
              "    }\n",
              "\n",
              "    .dataframe tbody tr th {\n",
              "        vertical-align: top;\n",
              "    }\n",
              "\n",
              "    .dataframe thead th {\n",
              "        text-align: right;\n",
              "    }\n",
              "</style>\n",
              "<table border=\"1\" class=\"dataframe\">\n",
              "  <thead>\n",
              "    <tr style=\"text-align: right;\">\n",
              "      <th></th>\n",
              "      <th>data</th>\n",
              "      <th>Date Message Sent</th>\n",
              "      <th>Time Message Sent</th>\n",
              "      <th>Sender</th>\n",
              "    </tr>\n",
              "  </thead>\n",
              "  <tbody>\n",
              "    <tr>\n",
              "      <th>0</th>\n",
              "      <td>PM 02:33,  Wifey Bear  : Hiiii boooo</td>\n",
              "      <td>Saturday, April 8, 2017</td>\n",
              "      <td>PM 02:33</td>\n",
              "      <td>Wifey Bear</td>\n",
              "    </tr>\n",
              "    <tr>\n",
              "      <th>1</th>\n",
              "      <td>PM 02:33,  Hubby Bear  : First</td>\n",
              "      <td>Saturday, April 8, 2017</td>\n",
              "      <td>PM 02:33</td>\n",
              "      <td>Hubby Bear</td>\n",
              "    </tr>\n",
              "    <tr>\n",
              "      <th>2</th>\n",
              "      <td>PM 02:39,  Hubby Bear  : (milk_face)</td>\n",
              "      <td>Saturday, April 8, 2017</td>\n",
              "      <td>PM 02:39</td>\n",
              "      <td>Hubby Bear</td>\n",
              "    </tr>\n",
              "    <tr>\n",
              "      <th>3</th>\n",
              "      <td>PM 02:40,  Hubby Bear  : STICKER</td>\n",
              "      <td>Saturday, April 8, 2017</td>\n",
              "      <td>PM 02:40</td>\n",
              "      <td>Hubby Bear</td>\n",
              "    </tr>\n",
              "    <tr>\n",
              "      <th>4</th>\n",
              "      <td>PM 02:40,  Hubby Bear  : LOOOOOOL</td>\n",
              "      <td>Saturday, April 8, 2017</td>\n",
              "      <td>PM 02:40</td>\n",
              "      <td>Hubby Bear</td>\n",
              "    </tr>\n",
              "    <tr>\n",
              "      <th>...</th>\n",
              "      <td>...</td>\n",
              "      <td>...</td>\n",
              "      <td>...</td>\n",
              "      <td>...</td>\n",
              "    </tr>\n",
              "    <tr>\n",
              "      <th>148719</th>\n",
              "      <td>PM 06:08,  Wifey Bear  : I’m really touched be...</td>\n",
              "      <td>Sunday, August 16, 2020</td>\n",
              "      <td>PM 03:06</td>\n",
              "      <td>Wifey Bear</td>\n",
              "    </tr>\n",
              "    <tr>\n",
              "      <th>148720</th>\n",
              "      <td>PM 06:08,  Wifey Bear  : STICKER</td>\n",
              "      <td>Sunday, August 16, 2020</td>\n",
              "      <td>PM 03:06</td>\n",
              "      <td>Hubby Bear</td>\n",
              "    </tr>\n",
              "    <tr>\n",
              "      <th>148721</th>\n",
              "      <td>PM 06:09,  Wifey Bear  : I also sent you some ...</td>\n",
              "      <td>Sunday, August 16, 2020</td>\n",
              "      <td>PM 03:09</td>\n",
              "      <td>Wifey Bear</td>\n",
              "    </tr>\n",
              "    <tr>\n",
              "      <th>148722</th>\n",
              "      <td>PM 07:26,  Hubby Bear  : thank you bear! :)</td>\n",
              "      <td>Sunday, August 16, 2020</td>\n",
              "      <td>PM 03:09</td>\n",
              "      <td>Hubby Bear</td>\n",
              "    </tr>\n",
              "    <tr>\n",
              "      <th>148723</th>\n",
              "      <td>PM 07:27,  Hubby Bear  : you family = my famil...</td>\n",
              "      <td>Sunday, August 16, 2020</td>\n",
              "      <td>PM 03:09</td>\n",
              "      <td>Wifey Bear</td>\n",
              "    </tr>\n",
              "  </tbody>\n",
              "</table>\n",
              "<p>148724 rows × 4 columns</p>\n",
              "</div>"
            ],
            "text/plain": [
              "                                                     data  ...      Sender\n",
              "0                    PM 02:33,  Wifey Bear  : Hiiii boooo  ...  Wifey Bear\n",
              "1                         PM 02:33,  Hubby Bear  : First   ...  Hubby Bear\n",
              "2                    PM 02:39,  Hubby Bear  : (milk_face)  ...  Hubby Bear\n",
              "3                        PM 02:40,  Hubby Bear  : STICKER  ...  Hubby Bear\n",
              "4                       PM 02:40,  Hubby Bear  : LOOOOOOL  ...  Hubby Bear\n",
              "...                                                   ...  ...         ...\n",
              "148719  PM 06:08,  Wifey Bear  : I’m really touched be...  ...  Wifey Bear\n",
              "148720                   PM 06:08,  Wifey Bear  : STICKER  ...  Hubby Bear\n",
              "148721  PM 06:09,  Wifey Bear  : I also sent you some ...  ...  Wifey Bear\n",
              "148722        PM 07:26,  Hubby Bear  : thank you bear! :)  ...  Hubby Bear\n",
              "148723  PM 07:27,  Hubby Bear  : you family = my famil...  ...  Wifey Bear\n",
              "\n",
              "[148724 rows x 4 columns]"
            ]
          },
          "metadata": {
            "tags": []
          },
          "execution_count": 249
        }
      ]
    },
    {
      "cell_type": "markdown",
      "metadata": {
        "id": "UpFwi0WbueCZ"
      },
      "source": [
        "Lastly, extract the message body from the `data` column and give it its own column."
      ]
    },
    {
      "cell_type": "code",
      "metadata": {
        "colab": {
          "base_uri": "https://localhost:8080/"
        },
        "id": "3GRrq51iujbe",
        "outputId": "9e79dcff-cdd8-42b4-dfcf-ca02afb345f0"
      },
      "source": [
        "# List to store message bodies\r\n",
        "msg_list = []\r\n",
        "\r\n",
        "# Keep track of errors\r\n",
        "errors = 0\r\n",
        "\r\n",
        "# Iterate over each row and separate out the message body from the rest of the content\r\n",
        "for row in data7['data']:\r\n",
        "  if isinstance(row, str)==True:\r\n",
        "    try:\r\n",
        "      # only select the message content and append it to the list\r\n",
        "      msg = row.split(': ',1)[1]\r\n",
        "      msg_list.append(msg)\r\n",
        "    except:\r\n",
        "      errors+=1\r\n",
        "\r\n",
        "# See number of errors\r\n",
        "print('errors:', errors)\r\n",
        "\r\n",
        "# Preview message list\r\n",
        "msg_list[:5]"
      ],
      "execution_count": 250,
      "outputs": [
        {
          "output_type": "stream",
          "text": [
            "errors: 2598\n"
          ],
          "name": "stdout"
        },
        {
          "output_type": "execute_result",
          "data": {
            "text/plain": [
              "['Hiiii boooo', 'First ', '(milk_face)', 'STICKER', 'LOOOOOOL']"
            ]
          },
          "metadata": {
            "tags": []
          },
          "execution_count": 250
        }
      ]
    },
    {
      "cell_type": "code",
      "metadata": {
        "colab": {
          "base_uri": "https://localhost:8080/",
          "height": 521
        },
        "id": "jGLIeBfHvaBq",
        "outputId": "fa972943-9a07-499b-b9bb-c9e0fcd256a3"
      },
      "source": [
        "# Add message col\r\n",
        "data7['Message'] = pd.Series(msg_list)\r\n",
        "\r\n",
        "# Drop null values\r\n",
        "data8 = data7.dropna()\r\n",
        "\r\n",
        "# Drop the data col from the df\r\n",
        "data9 = data8.drop(columns=['data'])\r\n",
        "data9"
      ],
      "execution_count": 270,
      "outputs": [
        {
          "output_type": "stream",
          "text": [
            "/usr/local/lib/python3.6/dist-packages/ipykernel_launcher.py:2: SettingWithCopyWarning: \n",
            "A value is trying to be set on a copy of a slice from a DataFrame.\n",
            "Try using .loc[row_indexer,col_indexer] = value instead\n",
            "\n",
            "See the caveats in the documentation: https://pandas.pydata.org/pandas-docs/stable/user_guide/indexing.html#returning-a-view-versus-a-copy\n",
            "  \n"
          ],
          "name": "stderr"
        },
        {
          "output_type": "execute_result",
          "data": {
            "text/html": [
              "<div>\n",
              "<style scoped>\n",
              "    .dataframe tbody tr th:only-of-type {\n",
              "        vertical-align: middle;\n",
              "    }\n",
              "\n",
              "    .dataframe tbody tr th {\n",
              "        vertical-align: top;\n",
              "    }\n",
              "\n",
              "    .dataframe thead th {\n",
              "        text-align: right;\n",
              "    }\n",
              "</style>\n",
              "<table border=\"1\" class=\"dataframe\">\n",
              "  <thead>\n",
              "    <tr style=\"text-align: right;\">\n",
              "      <th></th>\n",
              "      <th>Date Message Sent</th>\n",
              "      <th>Time Message Sent</th>\n",
              "      <th>Sender</th>\n",
              "      <th>Message</th>\n",
              "    </tr>\n",
              "  </thead>\n",
              "  <tbody>\n",
              "    <tr>\n",
              "      <th>0</th>\n",
              "      <td>Saturday, April 8, 2017</td>\n",
              "      <td>PM 02:33</td>\n",
              "      <td>Wifey Bear</td>\n",
              "      <td>Hiiii boooo</td>\n",
              "    </tr>\n",
              "    <tr>\n",
              "      <th>1</th>\n",
              "      <td>Saturday, April 8, 2017</td>\n",
              "      <td>PM 02:33</td>\n",
              "      <td>Hubby Bear</td>\n",
              "      <td>First</td>\n",
              "    </tr>\n",
              "    <tr>\n",
              "      <th>2</th>\n",
              "      <td>Saturday, April 8, 2017</td>\n",
              "      <td>PM 02:39</td>\n",
              "      <td>Hubby Bear</td>\n",
              "      <td>(milk_face)</td>\n",
              "    </tr>\n",
              "    <tr>\n",
              "      <th>3</th>\n",
              "      <td>Saturday, April 8, 2017</td>\n",
              "      <td>PM 02:40</td>\n",
              "      <td>Hubby Bear</td>\n",
              "      <td>STICKER</td>\n",
              "    </tr>\n",
              "    <tr>\n",
              "      <th>4</th>\n",
              "      <td>Saturday, April 8, 2017</td>\n",
              "      <td>PM 02:40</td>\n",
              "      <td>Hubby Bear</td>\n",
              "      <td>LOOOOOOL</td>\n",
              "    </tr>\n",
              "    <tr>\n",
              "      <th>...</th>\n",
              "      <td>...</td>\n",
              "      <td>...</td>\n",
              "      <td>...</td>\n",
              "      <td>...</td>\n",
              "    </tr>\n",
              "    <tr>\n",
              "      <th>146081</th>\n",
              "      <td>Saturday, April 25, 2020</td>\n",
              "      <td>AM 06:57</td>\n",
              "      <td>Hubby Bear</td>\n",
              "      <td>I’m really touched bear</td>\n",
              "    </tr>\n",
              "    <tr>\n",
              "      <th>146082</th>\n",
              "      <td>Saturday, April 25, 2020</td>\n",
              "      <td>AM 06:57</td>\n",
              "      <td>Hubby Bear</td>\n",
              "      <td>STICKER</td>\n",
              "    </tr>\n",
              "    <tr>\n",
              "      <th>146083</th>\n",
              "      <td>Saturday, April 25, 2020</td>\n",
              "      <td>AM 06:58</td>\n",
              "      <td>Hubby Bear</td>\n",
              "      <td>I also sent you some resources on fb msger to ...</td>\n",
              "    </tr>\n",
              "    <tr>\n",
              "      <th>146084</th>\n",
              "      <td>Saturday, April 25, 2020</td>\n",
              "      <td>AM 06:58</td>\n",
              "      <td>Hubby Bear</td>\n",
              "      <td>thank you bear! :)</td>\n",
              "    </tr>\n",
              "    <tr>\n",
              "      <th>146085</th>\n",
              "      <td>Saturday, April 25, 2020</td>\n",
              "      <td>AM 06:58</td>\n",
              "      <td>Hubby Bear</td>\n",
              "      <td>you family = my family &lt;3</td>\n",
              "    </tr>\n",
              "  </tbody>\n",
              "</table>\n",
              "<p>146086 rows × 4 columns</p>\n",
              "</div>"
            ],
            "text/plain": [
              "               Date Message Sent  ...                                            Message\n",
              "0        Saturday, April 8, 2017  ...                                        Hiiii boooo\n",
              "1        Saturday, April 8, 2017  ...                                             First \n",
              "2        Saturday, April 8, 2017  ...                                        (milk_face)\n",
              "3        Saturday, April 8, 2017  ...                                            STICKER\n",
              "4        Saturday, April 8, 2017  ...                                           LOOOOOOL\n",
              "...                          ...  ...                                                ...\n",
              "146081  Saturday, April 25, 2020  ...                          I’m really touched bear  \n",
              "146082  Saturday, April 25, 2020  ...                                            STICKER\n",
              "146083  Saturday, April 25, 2020  ...  I also sent you some resources on fb msger to ...\n",
              "146084  Saturday, April 25, 2020  ...                                 thank you bear! :)\n",
              "146085  Saturday, April 25, 2020  ...                          you family = my family <3\n",
              "\n",
              "[146086 rows x 4 columns]"
            ]
          },
          "metadata": {
            "tags": []
          },
          "execution_count": 270
        }
      ]
    },
    {
      "cell_type": "markdown",
      "metadata": {
        "id": "dMV54RGdwEIv"
      },
      "source": [
        "We started with 155,289 observations (after removing duplicate dates) and ended up with 146,086 observations post-cleaning (retaining about 94% of the data, which is good). We have sufficient information to do analysis.\r\n",
        "\r\n",
        "***\r\n",
        "\r\n",
        "We will do further cleaning by converting dates and times to datetime objects and purifying the message bodies (removing stopwords, addressing spelling errors, etc.)."
      ]
    },
    {
      "cell_type": "code",
      "metadata": {
        "id": "pQKgfaMOv1wA"
      },
      "source": [
        "# Convert date and time columns to datetime objects\r\n",
        "data9['Date Message Sent'] = pd.to_datetime(data9['Date Message Sent'], format='%A, %B %d, %Y')\r\n",
        "data9['Time Message Sent'] = pd.to_datetime(data9['Time Message Sent'], format='%p %I:%M').dt.time"
      ],
      "execution_count": 271,
      "outputs": []
    },
    {
      "cell_type": "code",
      "metadata": {
        "id": "jNr7UYTuvRGj"
      },
      "source": [
        ""
      ],
      "execution_count": 273,
      "outputs": []
    },
    {
      "cell_type": "code",
      "metadata": {
        "id": "21cZJvstXdO6"
      },
      "source": [
        ""
      ],
      "execution_count": 49,
      "outputs": []
    },
    {
      "cell_type": "code",
      "metadata": {
        "id": "8pDT5qUoMIux"
      },
      "source": [
        ""
      ],
      "execution_count": 196,
      "outputs": []
    },
    {
      "cell_type": "code",
      "metadata": {
        "id": "O8nxSrAAxeWt"
      },
      "source": [
        ""
      ],
      "execution_count": 229,
      "outputs": []
    },
    {
      "cell_type": "code",
      "metadata": {
        "id": "F_4N-ZxZfAD5"
      },
      "source": [
        ""
      ],
      "execution_count": 250,
      "outputs": []
    },
    {
      "cell_type": "code",
      "metadata": {
        "id": "OA4lk_sxhk9z"
      },
      "source": [
        ""
      ],
      "execution_count": null,
      "outputs": []
    }
  ]
}