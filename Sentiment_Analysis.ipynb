{
  "nbformat": 4,
  "nbformat_minor": 0,
  "metadata": {
    "colab": {
      "name": "Sentiment Analysis.ipynb",
      "provenance": [],
      "collapsed_sections": [],
      "authorship_tag": "ABX9TyNTlucR+8XY3AcBmTBWXLy/",
      "include_colab_link": true
    },
    "kernelspec": {
      "name": "python3",
      "display_name": "Python 3"
    }
  },
  "cells": [
    {
      "cell_type": "markdown",
      "metadata": {
        "id": "view-in-github",
        "colab_type": "text"
      },
      "source": [
        "<a href=\"https://colab.research.google.com/github/chelynl/sentiment_analysis/blob/main/Sentiment_Analysis.ipynb\" target=\"_parent\"><img src=\"https://colab.research.google.com/assets/colab-badge.svg\" alt=\"Open In Colab\"/></a>"
      ]
    },
    {
      "cell_type": "markdown",
      "metadata": {
        "id": "iBITGzJisyy1"
      },
      "source": [
        "Resources:<br>\n",
        "https://github.com/hellotinah/youtube_sentiment_analysis/blob/main/comments_full_analysis.ipynb<br>\n",
        "https://medium.com/analytics-vidhya/whatsapp-chat-analysis-using-python-88123e63c8ae<br>\n",
        "https://regex101.com/"
      ]
    },
    {
      "cell_type": "code",
      "metadata": {
        "id": "Bkfm3PImwjL3"
      },
      "source": [
        "# import packages\n",
        "import pickle\n",
        "import re\n",
        "import numpy as np\n",
        "import pandas as pd\n",
        "import seaborn as sn\n",
        "import matplotlib.pyplot as plt\n",
        "from datetime import datetime\n",
        "\n",
        "# !pip install emoji\n",
        "# !pip install vaderSentiment\n",
        "import emoji\n",
        "from emoji import UNICODE_EMOJI\n",
        "from vaderSentiment.vaderSentiment import SentimentIntensityAnalyzer\n",
        "# !pip install TextBlob\n",
        "from textblob import TextBlob\n",
        "from textblob import Word"
      ],
      "execution_count": null,
      "outputs": []
    },
    {
      "cell_type": "code",
      "metadata": {
        "colab": {
          "base_uri": "https://localhost:8080/"
        },
        "id": "JHZTmr71stVB",
        "outputId": "b3ec64cb-b91a-4c9b-9dac-c289c0c25bc2"
      },
      "source": [
        "from google.colab import drive\n",
        "drive.mount('/content/drive')"
      ],
      "execution_count": null,
      "outputs": [
        {
          "output_type": "stream",
          "text": [
            "Drive already mounted at /content/drive; to attempt to forcibly remount, call drive.mount(\"/content/drive\", force_remount=True).\n"
          ],
          "name": "stdout"
        }
      ]
    },
    {
      "cell_type": "code",
      "metadata": {
        "id": "CICOyJ4idYt6"
      },
      "source": [
        "data = pd.read_excel('/content/drive/MyDrive/Colab Notebooks/Between Messages/between_msgs.xlsx')"
      ],
      "execution_count": null,
      "outputs": []
    },
    {
      "cell_type": "code",
      "metadata": {
        "id": "ekmHRr0QeG_y"
      },
      "source": [
        "# remove unwanted cols\n",
        "data = data['DATA']"
      ],
      "execution_count": null,
      "outputs": []
    },
    {
      "cell_type": "code",
      "metadata": {
        "colab": {
          "base_uri": "https://localhost:8080/"
        },
        "id": "sXOjfu2vf2Qi",
        "outputId": "0d8cbacc-9847-4cf7-fe82-ecd4743ba9a5"
      },
      "source": [
        "data"
      ],
      "execution_count": null,
      "outputs": [
        {
          "output_type": "execute_result",
          "data": {
            "text/plain": [
              "0                                   Saturday, April 8, 2017\n",
              "1                   PM 02:33, 💍 Wifey Bear ❤️ : Hiiii boooo\n",
              "2                         PM 02:33, 💍 Hubby Bear 🐻 : First \n",
              "3                    PM 02:39, 💍 Hubby Bear 🐻 : (milk_face)\n",
              "4                        PM 02:40, 💍 Hubby Bear 🐻 : STICKER\n",
              "                                ...                        \n",
              "158438                          Thursday, December 31, 2020\n",
              "158439       AM 11:02, 💍 Wifey Bear ❤️ : Good morning bear!\n",
              "158440    AM 11:02, 💍 Wifey Bear ❤️ : Hope you have a fu...\n",
              "158441    AM 11:02, 💍 Wifey Bear ❤️ : Hehehe and see you...\n",
              "clean     [Saturday, April 8, 2017, PM 02:33,  Wifey Bea...\n",
              "Name: DATA, Length: 158443, dtype: object"
            ]
          },
          "metadata": {
            "tags": []
          },
          "execution_count": 182
        }
      ]
    },
    {
      "cell_type": "code",
      "metadata": {
        "id": "DxipoIMCxls9"
      },
      "source": [
        "# 3153 na values\n",
        "sum(data.isna())\n",
        "\n",
        "# drop na values\n",
        "data.dropna(inplace=True)"
      ],
      "execution_count": null,
      "outputs": []
    },
    {
      "cell_type": "code",
      "metadata": {
        "colab": {
          "base_uri": "https://localhost:8080/"
        },
        "id": "DWrW0FvOxp4A",
        "outputId": "31457e03-500d-442f-ba96-b9212179cd2c"
      },
      "source": [
        "data"
      ],
      "execution_count": null,
      "outputs": [
        {
          "output_type": "execute_result",
          "data": {
            "text/plain": [
              "0                                   Saturday, April 8, 2017\n",
              "1                   PM 02:33, 💍 Wifey Bear ❤️ : Hiiii boooo\n",
              "2                         PM 02:33, 💍 Hubby Bear 🐻 : First \n",
              "3                    PM 02:39, 💍 Hubby Bear 🐻 : (milk_face)\n",
              "4                        PM 02:40, 💍 Hubby Bear 🐻 : STICKER\n",
              "                                ...                        \n",
              "158438                          Thursday, December 31, 2020\n",
              "158439       AM 11:02, 💍 Wifey Bear ❤️ : Good morning bear!\n",
              "158440    AM 11:02, 💍 Wifey Bear ❤️ : Hope you have a fu...\n",
              "158441    AM 11:02, 💍 Wifey Bear ❤️ : Hehehe and see you...\n",
              "clean     [Saturday, April 8, 2017, PM 02:33,  Wifey Bea...\n",
              "Name: DATA, Length: 155290, dtype: object"
            ]
          },
          "metadata": {
            "tags": []
          },
          "execution_count": 188
        }
      ]
    },
    {
      "cell_type": "code",
      "metadata": {
        "id": "CfWhhv3En6Tz"
      },
      "source": [
        "# function for removing emoticons\n",
        "def remove_emojis(text):\n",
        "    regex_pattern = re.compile(pattern = \"[\"\n",
        "        u\"\\U0001F600-\\U0001F64F\"  # emoticons\n",
        "        u\"\\U0001F300-\\U0001F5FF\"  # symbols & pictographs\n",
        "        u\"\\U0001F680-\\U0001F6FF\"  # transport & map symbols\n",
        "        u\"\\U0001F1E0-\\U0001F1FF\"  # flags (iOS)\n",
        "        u\"\\U0001F1F2-\\U0001F1F4\"  # Macau flag\n",
        "        u\"\\U0001F1E6-\\U0001F1FF\"  # flags\n",
        "        u\"\\U0001F600-\\U0001F64F\"\n",
        "        u\"\\U00002702-\\U000027B0\"\n",
        "        u\"\\U000024C2-\\U0001F251\"\n",
        "        u\"\\U0001f926-\\U0001f937\"\n",
        "        u\"\\U0001F1F2\"\n",
        "        u\"\\U0001F1F4\"\n",
        "        u\"\\U0001F620\"\n",
        "        u\"\\u200d\"\n",
        "        u\"\\u2640-\\u2642\"\n",
        "        \"]+\", flags=re.UNICODE)\n",
        "\n",
        "    return regex_pattern.sub(r'',text)"
      ],
      "execution_count": null,
      "outputs": []
    },
    {
      "cell_type": "code",
      "metadata": {
        "id": "Jwoih-H3gIdx"
      },
      "source": [
        "# list to hold clean text without emojis\n",
        "no_emojis_text = []\n",
        "\n",
        "# iterate each row and remove emojis and append to clean list\n",
        "for row in data:\n",
        "  if isinstance(row, str)==True:\n",
        "    clean_row = remove_emojis(row)\n",
        "    no_emojis_text.append(clean_row)\n",
        "  else:\n",
        "    no_emojis_text.append(row)\n",
        "\n",
        "# add clean values as new col\n",
        "removed_emojis = pd.DataFrame(no_emojis_text)"
      ],
      "execution_count": null,
      "outputs": []
    },
    {
      "cell_type": "code",
      "metadata": {
        "colab": {
          "base_uri": "https://localhost:8080/",
          "height": 419
        },
        "id": "nQPShSA9h6Y6",
        "outputId": "092c731a-921f-452a-8032-895225cb8d1f"
      },
      "source": [
        "removed_emojis"
      ],
      "execution_count": null,
      "outputs": [
        {
          "output_type": "execute_result",
          "data": {
            "text/html": [
              "<div>\n",
              "<style scoped>\n",
              "    .dataframe tbody tr th:only-of-type {\n",
              "        vertical-align: middle;\n",
              "    }\n",
              "\n",
              "    .dataframe tbody tr th {\n",
              "        vertical-align: top;\n",
              "    }\n",
              "\n",
              "    .dataframe thead th {\n",
              "        text-align: right;\n",
              "    }\n",
              "</style>\n",
              "<table border=\"1\" class=\"dataframe\">\n",
              "  <thead>\n",
              "    <tr style=\"text-align: right;\">\n",
              "      <th></th>\n",
              "      <th>0</th>\n",
              "    </tr>\n",
              "  </thead>\n",
              "  <tbody>\n",
              "    <tr>\n",
              "      <th>0</th>\n",
              "      <td>Saturday, April 8, 2017</td>\n",
              "    </tr>\n",
              "    <tr>\n",
              "      <th>1</th>\n",
              "      <td>PM 02:33,  Wifey Bear  : Hiiii boooo</td>\n",
              "    </tr>\n",
              "    <tr>\n",
              "      <th>2</th>\n",
              "      <td>PM 02:33,  Hubby Bear  : First</td>\n",
              "    </tr>\n",
              "    <tr>\n",
              "      <th>3</th>\n",
              "      <td>PM 02:39,  Hubby Bear  : (milk_face)</td>\n",
              "    </tr>\n",
              "    <tr>\n",
              "      <th>4</th>\n",
              "      <td>PM 02:40,  Hubby Bear  : STICKER</td>\n",
              "    </tr>\n",
              "    <tr>\n",
              "      <th>...</th>\n",
              "      <td>...</td>\n",
              "    </tr>\n",
              "    <tr>\n",
              "      <th>155285</th>\n",
              "      <td>Thursday, December 31, 2020</td>\n",
              "    </tr>\n",
              "    <tr>\n",
              "      <th>155286</th>\n",
              "      <td>AM 11:02,  Wifey Bear  : Good morning bear!</td>\n",
              "    </tr>\n",
              "    <tr>\n",
              "      <th>155287</th>\n",
              "      <td>AM 11:02,  Wifey Bear  : Hope you have a fun t...</td>\n",
              "    </tr>\n",
              "    <tr>\n",
              "      <th>155288</th>\n",
              "      <td>AM 11:02,  Wifey Bear  : Hehehe and see you to...</td>\n",
              "    </tr>\n",
              "    <tr>\n",
              "      <th>155289</th>\n",
              "      <td>[Saturday, April 8, 2017, PM 02:33,  Wifey Bea...</td>\n",
              "    </tr>\n",
              "  </tbody>\n",
              "</table>\n",
              "<p>155290 rows × 1 columns</p>\n",
              "</div>"
            ],
            "text/plain": [
              "                                                        0\n",
              "0                                 Saturday, April 8, 2017\n",
              "1                    PM 02:33,  Wifey Bear  : Hiiii boooo\n",
              "2                         PM 02:33,  Hubby Bear  : First \n",
              "3                    PM 02:39,  Hubby Bear  : (milk_face)\n",
              "4                        PM 02:40,  Hubby Bear  : STICKER\n",
              "...                                                   ...\n",
              "155285                        Thursday, December 31, 2020\n",
              "155286        AM 11:02,  Wifey Bear  : Good morning bear!\n",
              "155287  AM 11:02,  Wifey Bear  : Hope you have a fun t...\n",
              "155288  AM 11:02,  Wifey Bear  : Hehehe and see you to...\n",
              "155289  [Saturday, April 8, 2017, PM 02:33,  Wifey Bea...\n",
              "\n",
              "[155290 rows x 1 columns]"
            ]
          },
          "metadata": {
            "tags": []
          },
          "execution_count": 190
        }
      ]
    },
    {
      "cell_type": "code",
      "metadata": {
        "id": "juiIHjrJuiW7",
        "colab": {
          "base_uri": "https://localhost:8080/"
        },
        "outputId": "24793f71-0883-4727-f620-9690f46a2655"
      },
      "source": [
        "sum(removed_emojis[0].isna())"
      ],
      "execution_count": null,
      "outputs": [
        {
          "output_type": "execute_result",
          "data": {
            "text/plain": [
              "0"
            ]
          },
          "metadata": {
            "tags": []
          },
          "execution_count": 200
        }
      ]
    },
    {
      "cell_type": "code",
      "metadata": {
        "id": "jNr7UYTuvRGj"
      },
      "source": [
        "date = datetime.strptime(removed_emojis.iloc[0,0], '%A, %B %d, %Y').date()\n"
      ],
      "execution_count": null,
      "outputs": []
    },
    {
      "cell_type": "code",
      "metadata": {
        "id": "WFq8IVLAHhu1"
      },
      "source": [
        "pattern = re.compile('\\w+,\\s\\w+\\s\\d*,\\s\\d+')"
      ],
      "execution_count": null,
      "outputs": []
    },
    {
      "cell_type": "code",
      "metadata": {
        "colab": {
          "base_uri": "https://localhost:8080/"
        },
        "id": "0Y0vJImlPa0t",
        "outputId": "bac24a59-0b54-4077-d774-1ad7aa858074"
      },
      "source": [
        "messengers = re.findall(pattern, removed_emojis.iloc[0,0])"
      ],
      "execution_count": null,
      "outputs": [
        {
          "output_type": "execute_result",
          "data": {
            "text/plain": [
              "['Saturday, April 8, 2017']"
            ]
          },
          "metadata": {
            "tags": []
          },
          "execution_count": 151
        }
      ]
    },
    {
      "cell_type": "code",
      "metadata": {
        "id": "21cZJvstXdO6"
      },
      "source": [
        "date_pattern = re.compile('\\w+,\\s\\w+\\s\\d*,\\s\\d+')\n",
        "\n",
        "dates_list = []\n",
        "\n",
        "for row in removed_emojis[0]:\n",
        "  if isinstance(row, str)==True:\n",
        "    date = re.findall(date_pattern, row)\n",
        "    dates_list.append(date)\n",
        "  else:\n",
        "    dates_list.append(date)"
      ],
      "execution_count": null,
      "outputs": []
    },
    {
      "cell_type": "code",
      "metadata": {
        "colab": {
          "base_uri": "https://localhost:8080/",
          "height": 181
        },
        "id": "4UA4R7nftLEv",
        "outputId": "b9f7550d-f693-4eb3-db74-228d6663a0e7"
      },
      "source": [
        "date = re.findall(date_pattern, removed_emojis.iloc[1,0])\n",
        "date[0]"
      ],
      "execution_count": null,
      "outputs": [
        {
          "output_type": "error",
          "ename": "IndexError",
          "evalue": "ignored",
          "traceback": [
            "\u001b[0;31m---------------------------------------------------------------------------\u001b[0m",
            "\u001b[0;31mIndexError\u001b[0m                                Traceback (most recent call last)",
            "\u001b[0;32m<ipython-input-170-d7339eae1f33>\u001b[0m in \u001b[0;36m<module>\u001b[0;34m()\u001b[0m\n\u001b[1;32m      1\u001b[0m \u001b[0mdate\u001b[0m \u001b[0;34m=\u001b[0m \u001b[0mre\u001b[0m\u001b[0;34m.\u001b[0m\u001b[0mfindall\u001b[0m\u001b[0;34m(\u001b[0m\u001b[0mdate_pattern\u001b[0m\u001b[0;34m,\u001b[0m \u001b[0mremoved_emojis\u001b[0m\u001b[0;34m.\u001b[0m\u001b[0miloc\u001b[0m\u001b[0;34m[\u001b[0m\u001b[0;36m1\u001b[0m\u001b[0;34m,\u001b[0m\u001b[0;36m0\u001b[0m\u001b[0;34m]\u001b[0m\u001b[0;34m)\u001b[0m\u001b[0;34m\u001b[0m\u001b[0;34m\u001b[0m\u001b[0m\n\u001b[0;32m----> 2\u001b[0;31m \u001b[0mdate\u001b[0m\u001b[0;34m[\u001b[0m\u001b[0;36m0\u001b[0m\u001b[0;34m]\u001b[0m\u001b[0;34m\u001b[0m\u001b[0;34m\u001b[0m\u001b[0m\n\u001b[0m",
            "\u001b[0;31mIndexError\u001b[0m: list index out of range"
          ]
        }
      ]
    },
    {
      "cell_type": "code",
      "metadata": {
        "colab": {
          "base_uri": "https://localhost:8080/"
        },
        "id": "VUW3QKH4tfF5",
        "outputId": "d8a26e05-b1a2-4d6c-a36c-055f03bcd351"
      },
      "source": [
        "sum(removed_emojis[0].str.contains(date_pattern).isna())"
      ],
      "execution_count": null,
      "outputs": [
        {
          "output_type": "execute_result",
          "data": {
            "text/plain": [
              "44"
            ]
          },
          "metadata": {
            "tags": []
          },
          "execution_count": 197
        }
      ]
    },
    {
      "cell_type": "code",
      "metadata": {
        "id": "3GBN26MAxNAd"
      },
      "source": [
        ""
      ],
      "execution_count": null,
      "outputs": []
    },
    {
      "cell_type": "code",
      "metadata": {
        "id": "O8nxSrAAxeWt"
      },
      "source": [
        ""
      ],
      "execution_count": null,
      "outputs": []
    }
  ]
}